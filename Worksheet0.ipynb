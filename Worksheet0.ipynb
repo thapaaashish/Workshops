{
  "nbformat": 4,
  "nbformat_minor": 0,
  "metadata": {
    "colab": {
      "provenance": []
    },
    "kernelspec": {
      "name": "python3",
      "display_name": "Python 3"
    },
    "language_info": {
      "name": "python"
    }
  },
  "cells": [
    {
      "cell_type": "markdown",
      "source": [
        "# **Task - 1:**\n"
      ],
      "metadata": {
        "id": "lce_9ogh4ND9"
      }
    },
    {
      "cell_type": "code",
      "execution_count": null,
      "metadata": {
        "colab": {
          "base_uri": "https://localhost:8080/"
        },
        "id": "OQmTj24C2APQ",
        "outputId": "d5bd8a97-4b9f-4aac-81ad-7df4234ac0f8"
      },
      "outputs": [
        {
          "output_type": "stream",
          "name": "stdout",
          "text": [
            "Do you want to convert it to meter(1) or feet(2) 1\n",
            "Cannot perform due to the type issue\n",
            "None\n",
            "Do you want to convert it to gallon(1) or liter(2) 1\n",
            "45.460951315867234\n",
            "Do you want to convert it to pound(1) or kg(2) 1\n",
            "22.0462\n"
          ]
        }
      ],
      "source": [
        "## Create a Python program that converts between different units of measurement.\n",
        "def convert_length(n):\n",
        "    \"\"\"\n",
        "        Convert the length based on the unit\n",
        "        Parameters:\n",
        "            Value to convert\n",
        "        Returns:\n",
        "            Converted value\n",
        "    \"\"\"\n",
        "    try:\n",
        "        option = int(input(\"Do you want to convert it to meter(1) or feet(2) \"))\n",
        "\n",
        "        if option == 1:\n",
        "            return n/3.28084\n",
        "        elif option == 2:\n",
        "            return n * 3.28084\n",
        "    except ValueError:\n",
        "        print(\"Inappropriate option or value\")\n",
        "    except TypeError:\n",
        "        print(\"Cannot perform due to the type issue\")\n",
        "\n",
        "print(f\"{convert_length('abc')}\")\n",
        "\n",
        "# Volumn\n",
        "def convert_volumn(n):\n",
        "    \"\"\"\n",
        "        Convert the volumn based on the unit\n",
        "        Parameters:\n",
        "            Value to convert\n",
        "        Returns:\n",
        "            Converted value\n",
        "    \"\"\"\n",
        "    try:\n",
        "        option = int(input(\"Do you want to convert it to gallon(1) or liter(2) \"))\n",
        "\n",
        "        if option == 1:\n",
        "            return n/0.219969\n",
        "        elif option == 2:\n",
        "            return n * 0.219969\n",
        "    except ValueError:\n",
        "        print(\"Inappropriate option or value\")\n",
        "    except TypeError:\n",
        "        print(\"Cannot perform due to the type issue\")\n",
        "\n",
        "print(f\"{convert_volumn(10)}\")\n",
        "\n",
        "# Weight\n",
        "def convert_weight(n):\n",
        "    \"\"\"\n",
        "        Convert the weight based on the unit\n",
        "        Parameters:\n",
        "            Value to convert\n",
        "        Returns:\n",
        "            Converted value\n",
        "    \"\"\"\n",
        "    try:\n",
        "        option = int(input(\"Do you want to convert it to pound(1) or kg(2) \"))\n",
        "\n",
        "        if option == 1:\n",
        "            return n*2.20462\n",
        "        elif option == 2:\n",
        "            return n /2.20462\n",
        "    except ValueError:\n",
        "        print(\"Inappropriate option or value\")\n",
        "    except TypeError:\n",
        "        print(\"Cannot perform due to the type issue\")\n",
        "\n",
        "print(f\"{convert_weight(10)}\")"
      ]
    },
    {
      "cell_type": "code",
      "source": [
        "# Create a Python program that performs various mathematical operations on a list of numbers.\n",
        "\n",
        "from re import split\n",
        "def math_operation():\n",
        "    try:\n",
        "        option = int(input(\"What operation do you want to do today?\\n1.Find Max\\n2.Find Min\\n3.Find Sum\\n4.Find Average\\n\"))\n",
        "        if option>4 or option<1:\n",
        "            raise ValueError(\"Invalid Option\")\n",
        "\n",
        "        numbers = input(\"Enter the numbers seperated by space: \")\n",
        "        arr = numbers.split(\" \")\n",
        "        arr = [int(i) for i in arr]\n",
        "\n",
        "        if(option == 1):\n",
        "            print(f\"The max in the array is: {max(arr)}\")\n",
        "        elif(option == 2):\n",
        "            print(f\"The min in the array is: {min(arr)}\")\n",
        "        elif(option == 3):\n",
        "            print(f\"The sum of numbers in the array is: {add(arr)}\")\n",
        "        elif(option == 4):\n",
        "            print(f\"The average of numbers in the array is: {average(arr)}\")\n",
        "\n",
        "    except ValueError:\n",
        "        print(\"Invalid Option Selected\")\n",
        "    except TypeError:\n",
        "        print(\"Please input numbers only\")\n",
        "\n",
        "def max(n):\n",
        "    \"\"\"\n",
        "        Returns the maximum number in the list\n",
        "\n",
        "        parameters:\n",
        "            n (array of numbers)\n",
        "\n",
        "        returns:\n",
        "            max_number\n",
        "    \"\"\"\n",
        "    max_num = n[0]\n",
        "    for i in range(1,len(n)):\n",
        "        if max_num < n[i]:\n",
        "            max_num = n[i]\n",
        "\n",
        "    return max_num\n",
        "\n",
        "def min(n):\n",
        "    \"\"\"\n",
        "    Returns the minimum number in the list\n",
        "\n",
        "    Parameters:\n",
        "        n (list of numbers)\n",
        "\n",
        "    Returns:\n",
        "        min_number\n",
        "    \"\"\"\n",
        "    if not n:  # Check if the list is empty\n",
        "        raise ValueError(\"List cannot be empty\")\n",
        "\n",
        "    min_num = n[0]\n",
        "    for i in range(1, len(n)):\n",
        "        if min_num > n[i]:\n",
        "            min_num = n[i]\n",
        "\n",
        "    return min_num\n",
        "\n",
        "def add(n):\n",
        "    \"\"\"\n",
        "        Returns the sum of numbers in the list\n",
        "\n",
        "        parameters:\n",
        "            n (array of numbers)\n",
        "\n",
        "        returns:\n",
        "            max_number\n",
        "    \"\"\"\n",
        "    sum = 0\n",
        "    for i in range(len(n)):\n",
        "        sum += n[i]\n",
        "\n",
        "    return sum\n",
        "\n",
        "def average(n):\n",
        "    \"\"\"\n",
        "        Returns the average of numbers in the list\n",
        "\n",
        "        parameters:\n",
        "            n (array of numbers)\n",
        "\n",
        "        returns:\n",
        "            average\n",
        "    \"\"\"\n",
        "    sum = 0\n",
        "    for i in range(len(n)):\n",
        "        sum += n[i]\n",
        "\n",
        "    return sum/len(n)\n",
        "\n",
        "# begin the program\n",
        "math_operation()"
      ],
      "metadata": {
        "colab": {
          "base_uri": "https://localhost:8080/"
        },
        "id": "EzlmPtuf5kgr",
        "outputId": "1512e9a9-b4e3-495b-fc53-6b8731cddfa8"
      },
      "execution_count": null,
      "outputs": [
        {
          "output_type": "stream",
          "name": "stdout",
          "text": [
            "What operation do you want to do today?\n",
            "1.Find Max\n",
            "2.Find Min\n",
            "3.Find Sum\n",
            "4.Find Average\n",
            "1\n",
            "Enter the numbers seperated by space: 35 3\n",
            "The max in the array is: 35\n"
          ]
        }
      ]
    },
    {
      "cell_type": "markdown",
      "source": [
        "# **Exercise on List Manipulation:**"
      ],
      "metadata": {
        "id": "edRdX66i7Upi"
      }
    },
    {
      "cell_type": "code",
      "source": [
        "# Write a Python function that extracts every other element from a list, starting from the first element.\n",
        "\n",
        "def extract_every_other(lst):\n",
        "    new_array = []\n",
        "    for i in range(len(lst)):\n",
        "        if i%2 != 0: continue\n",
        "        new_array.append(lst[i])\n",
        "\n",
        "    return new_array\n",
        "\n",
        "res = extract_every_other([1,2,3,4,5,6])\n",
        "print(res)"
      ],
      "metadata": {
        "colab": {
          "base_uri": "https://localhost:8080/"
        },
        "id": "VJE91eJI7Dj6",
        "outputId": "eee4531d-7a3e-4f5f-bce9-85fc68118bca"
      },
      "execution_count": null,
      "outputs": [
        {
          "output_type": "stream",
          "name": "stdout",
          "text": [
            "[1, 3, 5]\n"
          ]
        }
      ]
    },
    {
      "cell_type": "code",
      "source": [
        "# Write a Python function that returns a sublist from a given list, starting from a specified index and ending at another specified index.\n",
        "\n",
        "def get_sublist(lst, start, end):\n",
        "    return lst[start:end]\n",
        "\n",
        "res = get_sublist([1,2,3,4,5,6,7], 1,2)\n",
        "print(res)"
      ],
      "metadata": {
        "colab": {
          "base_uri": "https://localhost:8080/"
        },
        "id": "rvoQ0qfh7rM5",
        "outputId": "447f6de7-013a-4f26-f71c-3e9d92666634"
      },
      "execution_count": null,
      "outputs": [
        {
          "output_type": "stream",
          "name": "stdout",
          "text": [
            "[2]\n"
          ]
        }
      ]
    },
    {
      "cell_type": "code",
      "source": [
        "# Reverse a List Using Slicing\n",
        "# Write a Python function that reverses a list using slicing.\n",
        "\n",
        "def reverse_list(lst):\n",
        "    return lst[::-1]\n",
        "\n",
        "res = reverse_list([1,2,3,4,5])\n",
        "print(res)"
      ],
      "metadata": {
        "colab": {
          "base_uri": "https://localhost:8080/"
        },
        "id": "gpwdTce18G34",
        "outputId": "ddd78ec4-123b-41ac-cb6a-fcbaf9be4adb"
      },
      "execution_count": null,
      "outputs": [
        {
          "output_type": "stream",
          "name": "stdout",
          "text": [
            "[5, 4, 3, 2, 1]\n"
          ]
        }
      ]
    },
    {
      "cell_type": "code",
      "source": [
        "# Remove the First and Last Elements\n",
        "# Write a Python function that removes the first and last elements of a list and returns the resulting sublist.\n",
        "\n",
        "def remove_first_last(lst):\n",
        "    return lst[1:len(lst)-1]\n",
        "\n",
        "res = remove_first_last([1,2,3,4,5])\n",
        "print(res)"
      ],
      "metadata": {
        "colab": {
          "base_uri": "https://localhost:8080/"
        },
        "id": "dBhES9Nv8NAP",
        "outputId": "1f468992-eda6-4e54-f73c-de27d945a8e1"
      },
      "execution_count": null,
      "outputs": [
        {
          "output_type": "stream",
          "name": "stdout",
          "text": [
            "[2, 3, 4]\n"
          ]
        }
      ]
    },
    {
      "cell_type": "code",
      "source": [
        "# Get the First n Elements\n",
        "# Write a Python function that extracts the first n elements from a list.\n",
        "\n",
        "def get_first_n(lst, n):\n",
        "    return lst[:n]\n",
        "\n",
        "res = get_first_n([1,2,3,4,5], 3)\n",
        "print(res)"
      ],
      "metadata": {
        "colab": {
          "base_uri": "https://localhost:8080/"
        },
        "id": "N22m9z9R8SNI",
        "outputId": "62df6c9e-da8c-4172-e926-7f630336740e"
      },
      "execution_count": null,
      "outputs": [
        {
          "output_type": "stream",
          "name": "stdout",
          "text": [
            "[1, 2, 3]\n"
          ]
        }
      ]
    },
    {
      "cell_type": "code",
      "source": [
        "# Extract Elements from the End\n",
        "# Write a Python function that extracts the last n elements of a list using slicing.\n",
        "\n",
        "def get_last_n(lst, n):\n",
        "    return lst[n:]\n",
        "\n",
        "res = get_last_n([1,2,3,4,5], 3)\n",
        "print(res)"
      ],
      "metadata": {
        "colab": {
          "base_uri": "https://localhost:8080/"
        },
        "id": "W2ORkO2D8aBB",
        "outputId": "7d2933cb-f534-4d8b-eed7-38ae5ad1b6cf"
      },
      "execution_count": null,
      "outputs": [
        {
          "output_type": "stream",
          "name": "stdout",
          "text": [
            "[4, 5]\n"
          ]
        }
      ]
    },
    {
      "cell_type": "code",
      "source": [
        "# Extract Elements in Reverse Order:\n",
        "# Write a Python function that extracts a list of elements in reverse order starting from the second-to-last element and skipping one element in between.\n",
        "\n",
        "def reverse_skip(lst):\n",
        "    return lst[::2][::-1]\n",
        "\n",
        "res = reverse_skip([1,2,3,4,5,6])\n",
        "print(res)"
      ],
      "metadata": {
        "colab": {
          "base_uri": "https://localhost:8080/"
        },
        "id": "hd2OdV3u8aSB",
        "outputId": "9ae36be8-09b5-4aff-a5de-c642cdd0f36b"
      },
      "execution_count": null,
      "outputs": [
        {
          "output_type": "stream",
          "name": "stdout",
          "text": [
            "[5, 3, 1]\n"
          ]
        }
      ]
    },
    {
      "cell_type": "markdown",
      "source": [
        "# **Exercise on Nested List:**"
      ],
      "metadata": {
        "id": "YtJO2Mk69jcY"
      }
    },
    {
      "cell_type": "code",
      "source": [
        "# Flatten a Nested List:\n",
        "# Write a Python function that takes a nested list and flattens it into a single list, where all the elements are in a single dimension.\n",
        "\n",
        "def flatten(lst):\n",
        "    # List comprehension answer ->\n",
        "    # return [item for sublist in lst for item in sublist]\n",
        "    res = []\n",
        "    for i in lst:\n",
        "        for j in i:\n",
        "            res.append(j)\n",
        "\n",
        "    return res\n",
        "\n",
        "res = flatten([[1, 2], [3, 4], [5]])\n",
        "print(res)"
      ],
      "metadata": {
        "colab": {
          "base_uri": "https://localhost:8080/"
        },
        "id": "gMjC99FT8aVQ",
        "outputId": "2f931a2b-160f-4b08-ac6f-29b6cd4c6653"
      },
      "execution_count": null,
      "outputs": [
        {
          "output_type": "stream",
          "name": "stdout",
          "text": [
            "[1, 2, 3, 4, 5]\n"
          ]
        }
      ]
    },
    {
      "cell_type": "code",
      "source": [
        "# Accessing Nested List Elements:\n",
        "# Write a Python function that extracts a specific element from a nested list given its indices.\n",
        "\n",
        "def access_nested_element(lst, indices):\n",
        "    return lst[indices[0]][indices[1]]\n",
        "\n",
        "res = access_nested_element([[1, 2, 3], [4, 5, 6], [7, 8, 9]], [1,2],)\n",
        "print(res)"
      ],
      "metadata": {
        "colab": {
          "base_uri": "https://localhost:8080/"
        },
        "id": "QPoy4PNX8a0i",
        "outputId": "0ef04967-1f27-47c1-b193-a8740e8b44b0"
      },
      "execution_count": null,
      "outputs": [
        {
          "output_type": "stream",
          "name": "stdout",
          "text": [
            "6\n"
          ]
        }
      ]
    },
    {
      "cell_type": "code",
      "source": [
        "# Sum of All Elements in a Nested List:\n",
        "# Write a Python function that calculates the sum of all the numbers in a nested list (regardless of depth).\n",
        "\n",
        "def sum_nested(lst):\n",
        "    # List comprehension answer ->\n",
        "    # return [item for sublist in lst for item in sublist]\n",
        "    res = []\n",
        "    for i in lst:\n",
        "        for j in i:\n",
        "            res.append(j)\n",
        "\n",
        "    return sum(res)\n",
        "\n",
        "res = sum_nested([[1, 2], [3, 4], [5]])\n",
        "print(res)"
      ],
      "metadata": {
        "colab": {
          "base_uri": "https://localhost:8080/"
        },
        "id": "Yx2Z9y2J8a3n",
        "outputId": "993b0d8d-8b75-4543-9a8c-aa68d0b57304"
      },
      "execution_count": null,
      "outputs": [
        {
          "output_type": "stream",
          "name": "stdout",
          "text": [
            "15\n"
          ]
        }
      ]
    },
    {
      "cell_type": "code",
      "source": [
        "# Remove Specific Element from a Nested List:\n",
        "# Write a Python function that removes all occurrences of a specific element from a nested list.\n",
        "\n",
        "def remove_element(lst, elem):\n",
        "    for i in lst:\n",
        "        if elem in i:\n",
        "            i.remove(elem)\n",
        "\n",
        "    return lst\n",
        "\n",
        "res = remove_element([[1, 2], [3, 2], [4, 5]], 2)\n",
        "print(res)"
      ],
      "metadata": {
        "colab": {
          "base_uri": "https://localhost:8080/"
        },
        "id": "nA1tvjM0-iN2",
        "outputId": "9a768d4b-205f-4e26-8618-07584e19d80b"
      },
      "execution_count": null,
      "outputs": [
        {
          "output_type": "stream",
          "name": "stdout",
          "text": [
            "[[1], [3], [4, 5]]\n"
          ]
        }
      ]
    },
    {
      "cell_type": "code",
      "source": [
        "# Find the Maximum Element in a Nested List:\n",
        "# Write a Python function that finds the maximum element in a nested list (regardless of depth).\n",
        "\n",
        "def flatten_list(lst):\n",
        "    # convert it to string, strip unnecessary characters\n",
        "    tmp = str(lst)\n",
        "    tmp = tmp.strip(\"[]\")\n",
        "    tmp = tmp.replace(\"[\", \"\").replace(\"]\", \"\").replace(\" \", \"\")\n",
        "    t_arr = tmp.split(\",\")\n",
        "\n",
        "    return [int(i) for i in t_arr]\n",
        "\n",
        "\n",
        "def find_max(lst):\n",
        "    return max(flatten_list(lst))\n",
        "\n",
        "print(find_max([[1, 2], [3, [4, 5]], 6]))"
      ],
      "metadata": {
        "colab": {
          "base_uri": "https://localhost:8080/"
        },
        "id": "_bUCwq6m-iQo",
        "outputId": "bc8f4472-d99c-4bb3-96d3-fef54a5aad2f"
      },
      "execution_count": null,
      "outputs": [
        {
          "output_type": "stream",
          "name": "stdout",
          "text": [
            "6\n"
          ]
        }
      ]
    },
    {
      "cell_type": "code",
      "source": [
        "# Count Occurrences of an Element in a Nested List:\n",
        "# Write a Python function that counts how many times a specific element appears in a nested list.\n",
        "\n",
        "def count_occurrences(lst, elem):\n",
        "    f_list = flatten_list(lst)\n",
        "    return f_list.count(elem)\n",
        "\n",
        "count_occurrences([[1,2,3],[1,2,3,2]], 2)"
      ],
      "metadata": {
        "colab": {
          "base_uri": "https://localhost:8080/"
        },
        "id": "orbg-cRO-iTi",
        "outputId": "5ceff0e2-908f-4327-972f-257f2243edba"
      },
      "execution_count": null,
      "outputs": [
        {
          "output_type": "execute_result",
          "data": {
            "text/plain": [
              "3"
            ]
          },
          "metadata": {},
          "execution_count": 33
        }
      ]
    },
    {
      "cell_type": "code",
      "source": [
        "# Flatten a List of Lists of Lists:\n",
        "# Write a Python function that flattens a list of lists of lists into a single list, regardless of the depth.\n",
        "\n",
        "def deep_flatten(lst):\n",
        "    # convert it to string, strip unnecessary characters\n",
        "    tmp = str(lst)\n",
        "    tmp = tmp.strip(\"[]\")\n",
        "    tmp = tmp.replace(\"[\", \"\").replace(\"]\", \"\").replace(\" \", \"\")\n",
        "    t_arr = tmp.split(\",\")\n",
        "\n",
        "    return [int(i) for i in t_arr]\n",
        "\n",
        "print(deep_flatten([[[1, 2], [3, 4]], [[5, 6], [7, 8]]],))"
      ],
      "metadata": {
        "colab": {
          "base_uri": "https://localhost:8080/"
        },
        "id": "AS2d4zjh-iVW",
        "outputId": "7167d1b1-dd52-442b-aff1-217e04795dd3"
      },
      "execution_count": null,
      "outputs": [
        {
          "output_type": "stream",
          "name": "stdout",
          "text": [
            "[1, 2, 3, 4, 5, 6, 7, 8]\n"
          ]
        }
      ]
    },
    {
      "cell_type": "code",
      "source": [
        "# Nested List Average:\n",
        "# Write a Python function that calculates the average of all elements in a nested list.\n",
        "\n",
        "\n",
        "def average_nested(lst):\n",
        "    temp_arr = deep_flatten(lst)\n",
        "    return sum(temp_arr)/len(temp_arr)\n",
        "\n",
        "print(average_nested([[1, 2], [3, [4, 5]], 6]))"
      ],
      "metadata": {
        "colab": {
          "base_uri": "https://localhost:8080/"
        },
        "id": "31cxoNtP-iXj",
        "outputId": "57bf4ea1-2e95-4148-b3e7-46582c8deefc"
      },
      "execution_count": null,
      "outputs": [
        {
          "output_type": "stream",
          "name": "stdout",
          "text": [
            "3.5\n"
          ]
        }
      ]
    },
    {
      "cell_type": "markdown",
      "source": [
        "# **To - Do - NumPy**"
      ],
      "metadata": {
        "id": "-9nBrjz-AOlN"
      }
    },
    {
      "cell_type": "code",
      "source": [
        "# Array Creation:\n",
        "import numpy as np\n",
        "\n",
        "# Initialize an empty array with size 2X2.\n",
        "empty_matrix = np.empty((2,2))\n",
        "print(empty_matrix)\n",
        "\n",
        "# Initialize an all one array with size 4X2.\n",
        "one_matrix = np.ones((4,2))\n",
        "print(one_matrix)\n",
        "\n",
        "# Return a new array of given shape and type, filled with fill value.{Hint: np.full}\n",
        "full_arr = np.full((4,2), 2, dtype='float32')\n",
        "\n",
        "# Return a new array of zeros with same shape and type as a given array.{Hint: np.zeros like}\n",
        "zeros_like_arr = np.zeros_like(np.array([[1,2],[3,4]]))\n",
        "\n",
        "# Return a new array of ones with same shape and type as a given array.{Hint: np.ones like}\n",
        "ones_arr = np.ones_like(np.array([1,2,3,4]))\n",
        "\n",
        "# For an existing list new_list = [1,2,3,4] convert to an numpy array.{Hint: np.array()}\n",
        "new_list = [1,2,3,4]\n",
        "arr = np.array(new_list)\n",
        "\n",
        "print(full_arr, zeros_like_arr, ones_arr, arr, sep='\\n\\n')"
      ],
      "metadata": {
        "colab": {
          "base_uri": "https://localhost:8080/"
        },
        "id": "vV2tAqzv8a6w",
        "outputId": "f719e74e-2a7a-4001-f42e-9bebdfb43e2e"
      },
      "execution_count": null,
      "outputs": [
        {
          "output_type": "stream",
          "name": "stdout",
          "text": [
            "[[2.37922954e-316 0.00000000e+000]\n",
            " [2.40335822e-316 2.41394151e-316]]\n",
            "[[1. 1.]\n",
            " [1. 1.]\n",
            " [1. 1.]\n",
            " [1. 1.]]\n",
            "[[2. 2.]\n",
            " [2. 2.]\n",
            " [2. 2.]\n",
            " [2. 2.]]\n",
            "\n",
            "[[0 0]\n",
            " [0 0]]\n",
            "\n",
            "[1 1 1 1]\n",
            "\n",
            "[1 2 3 4]\n"
          ]
        }
      ]
    },
    {
      "cell_type": "code",
      "source": [
        "# Problem - 2: Array Manipulation: Numerical Ranges and Array indexing:\n",
        "# Complete the following tasks:\n",
        "\n",
        "# 1. Create an array with values ranging from 10 to 49. {Hint:np.arrange()}.\n",
        "ten_to_fortynine = np.arange(10,49)\n",
        "print(ten_to_fortynine)\n",
        "\n",
        "# 2. Create a 3X3 matrix with values ranging from 0 to 8.\n",
        "# {Hint:look for np.reshape()}\n",
        "zero_to_eight = np.arange(0,8)\n",
        "print(zero_to_eight)\n",
        "\n",
        "# 3. Create a 3X3 identity matrix.{Hint:np.eye()}\n",
        "identity_matrix = np.eye(3)\n",
        "print(identity_matrix)\n",
        "\n",
        "# 4. Create a random array of size 30 and find the mean of the array.\n",
        "# {Hint:check for np.random.random() and array.mean() function}\n",
        "rand_arr = np.random.rand(30).mean()\n",
        "print(\"mean: \" , rand_arr)\n",
        "\n",
        "# 5. Create a 10X10 array with random values and find the minimum and maximum values.\n",
        "ten_by_ten = np.random.rand(10,10)\n",
        "print(\"max: \", ten_by_ten.max())\n",
        "print(\"min: \", ten_by_ten.min())\n",
        "\n",
        "# 6. Create a zero array of size 10 and replace 5th element with 1.\n",
        "size_ten = np.zeros((10,1))\n",
        "size_ten[5] = 1\n",
        "print(size_ten)\n",
        "\n",
        "# 7. Reverse an array arr = [1,2,0,0,4,0].\n",
        "reverse_arr = np.array([1,2,0,0,4,0][::-1])\n",
        "print(reverse_arr)\n",
        "\n",
        "# 8. Create a 2d array with 1 on border and 0 inside.\n",
        "array = np.ones((3, 4))\n",
        "array[1:-1, 1:-1] = 0\n",
        "print(array)\n",
        "\n",
        "# 9. Create a 8X8 matrix and fill it with a checkerboard pattern.\n",
        "eight_by_eight = np.ones((8,8))\n",
        "eight_by_eight[1::2, ::2] = 0\n",
        "eight_by_eight[::2, 1::2] = 0\n",
        "print(eight_by_eight)"
      ],
      "metadata": {
        "colab": {
          "base_uri": "https://localhost:8080/"
        },
        "id": "QceusIu6ALCU",
        "outputId": "4ccf7449-2fdc-4b89-f98f-1e92a7b0595a"
      },
      "execution_count": null,
      "outputs": [
        {
          "output_type": "stream",
          "name": "stdout",
          "text": [
            "[10 11 12 13 14 15 16 17 18 19 20 21 22 23 24 25 26 27 28 29 30 31 32 33\n",
            " 34 35 36 37 38 39 40 41 42 43 44 45 46 47 48]\n",
            "[0 1 2 3 4 5 6 7]\n",
            "[[1. 0. 0.]\n",
            " [0. 1. 0.]\n",
            " [0. 0. 1.]]\n",
            "mean:  0.3303527403206584\n",
            "max:  0.9972143415635416\n",
            "min:  0.019011207181054868\n",
            "[[0.]\n",
            " [0.]\n",
            " [0.]\n",
            " [0.]\n",
            " [0.]\n",
            " [1.]\n",
            " [0.]\n",
            " [0.]\n",
            " [0.]\n",
            " [0.]]\n",
            "[0 4 0 0 2 1]\n",
            "[[1. 1. 1. 1.]\n",
            " [1. 0. 0. 1.]\n",
            " [1. 1. 1. 1.]]\n",
            "[[1. 0. 1. 0. 1. 0. 1. 0.]\n",
            " [0. 1. 0. 1. 0. 1. 0. 1.]\n",
            " [1. 0. 1. 0. 1. 0. 1. 0.]\n",
            " [0. 1. 0. 1. 0. 1. 0. 1.]\n",
            " [1. 0. 1. 0. 1. 0. 1. 0.]\n",
            " [0. 1. 0. 1. 0. 1. 0. 1.]\n",
            " [1. 0. 1. 0. 1. 0. 1. 0.]\n",
            " [0. 1. 0. 1. 0. 1. 0. 1.]]\n"
          ]
        }
      ]
    },
    {
      "cell_type": "code",
      "source": [
        "# Problem - 3: Array Operations:\n",
        "# For the following arrays:\n",
        "\n",
        "x = np.array([[1,2],[3,5]])\n",
        "y = np.array([[5,6],[7,8]]);\n",
        "v = np.array([9,10])\n",
        "w = np.array([11,12]);\n",
        "\n",
        "# Complete all the task using numpy:\n",
        "\n",
        "# 1. Add the two array.\n",
        "print(\"ADD: \", x+y)\n",
        "\n",
        "# 2. Subtract the two array.\n",
        "print(\"SUBTRACT: \",x-y)\n",
        "\n",
        "# 3. Multiply the array with any integers of your choice.\n",
        "print(\"SCALAR MULTIPLICATION: \", 3 * x)\n",
        "\n",
        "# 4. Find the square of each element of the array.\n",
        "print(\"SQUARE OF X: \",np.square(x))\n",
        "\n",
        "# 5. Find the dot product between: v(and)w ; x(and)v ; x(and)y.\n",
        "print(\"DOT MULTIPLICATION OF V AND W:\",np.dot(v,w))\n",
        "print(\"DOT MULTIPLICATION OF X AND V:\",np.dot(x,v))\n",
        "print(\"DOT MULTIPLICATION OF X AND Y:\",np.dot(x,y))\n",
        "\n",
        "# 6. Concatenate x(and)y along row and Concatenate v(and)w along column.\n",
        "print(\"CONCATENATE X AND Y ALONG ROW: \",np.concatenate((x,y),axis=1))\n",
        "print(\"CONCATENATE V AND W: \", np.concatenate((v,w),axis=0))\n",
        "\n",
        "# {Hint:try np.concatenate() or np.vstack() functions.\n",
        "\n",
        "# 7. Concatenate x(and)v; if you get an error, observe and explain why did you get the error?\n",
        "print(\"CONCATENATE X AND V: \", np.concatenate((x,v),axis=0)) # ERROR all the input arrays must have the same shape except in the concatenation axis"
      ],
      "metadata": {
        "colab": {
          "base_uri": "https://localhost:8080/",
          "height": 436
        },
        "id": "J9m0mI0vALFE",
        "outputId": "4b246bf7-bfca-4d40-e9e1-8d94b64452aa"
      },
      "execution_count": null,
      "outputs": [
        {
          "output_type": "stream",
          "name": "stdout",
          "text": [
            "ADD:  [[ 6  8]\n",
            " [10 13]]\n",
            "SUBTRACT:  [[-4 -4]\n",
            " [-4 -3]]\n",
            "SCALAR MULTIPLICATION:  [[ 3  6]\n",
            " [ 9 15]]\n",
            "SQUARE OF X:  [[ 1  4]\n",
            " [ 9 25]]\n",
            "DOT MULTIPLICATION OF V AND W: 219\n",
            "DOT MULTIPLICATION OF X AND V: [29 77]\n",
            "DOT MULTIPLICATION OF X AND Y: [[19 22]\n",
            " [50 58]]\n",
            "CONCATENATE X AND Y ALONG ROW:  [[1 2 5 6]\n",
            " [3 5 7 8]]\n",
            "CONCATENATE V AND W:  [ 9 10 11 12]\n"
          ]
        },
        {
          "output_type": "error",
          "ename": "ValueError",
          "evalue": "all the input arrays must have same number of dimensions, but the array at index 0 has 2 dimension(s) and the array at index 1 has 1 dimension(s)",
          "traceback": [
            "\u001b[0;31m---------------------------------------------------------------------------\u001b[0m",
            "\u001b[0;31mValueError\u001b[0m                                Traceback (most recent call last)",
            "\u001b[0;32m<ipython-input-43-93099ba09f60>\u001b[0m in \u001b[0;36m<cell line: 0>\u001b[0;34m()\u001b[0m\n\u001b[1;32m     33\u001b[0m \u001b[0;34m\u001b[0m\u001b[0m\n\u001b[1;32m     34\u001b[0m \u001b[0;31m# 7. Concatenate x(and)v; if you get an error, observe and explain why did you get the error?\u001b[0m\u001b[0;34m\u001b[0m\u001b[0;34m\u001b[0m\u001b[0m\n\u001b[0;32m---> 35\u001b[0;31m \u001b[0mprint\u001b[0m\u001b[0;34m(\u001b[0m\u001b[0;34m\"CONCATENATE X AND V: \"\u001b[0m\u001b[0;34m,\u001b[0m \u001b[0mnp\u001b[0m\u001b[0;34m.\u001b[0m\u001b[0mconcatenate\u001b[0m\u001b[0;34m(\u001b[0m\u001b[0;34m(\u001b[0m\u001b[0mx\u001b[0m\u001b[0;34m,\u001b[0m\u001b[0mv\u001b[0m\u001b[0;34m)\u001b[0m\u001b[0;34m,\u001b[0m\u001b[0maxis\u001b[0m\u001b[0;34m=\u001b[0m\u001b[0;36m0\u001b[0m\u001b[0;34m)\u001b[0m\u001b[0;34m)\u001b[0m \u001b[0;31m# ERROR as the dimension of x and v do not match\u001b[0m\u001b[0;34m\u001b[0m\u001b[0;34m\u001b[0m\u001b[0m\n\u001b[0m",
            "\u001b[0;31mValueError\u001b[0m: all the input arrays must have same number of dimensions, but the array at index 0 has 2 dimension(s) and the array at index 1 has 1 dimension(s)"
          ]
        }
      ]
    },
    {
      "cell_type": "code",
      "source": [
        "# Problem - 4: Matrix Operations:\n",
        "# For the following arrays:\n",
        "A = np.array([[3,4],[7,8]])\n",
        "B = np.array([[5,3],[2,1]]);\n",
        "\n",
        "# Prove following with Numpy:\n",
        "# 1. Prove A.A−1 = I.\n",
        "A_inv = np.linalg.inv(A)\n",
        "print(np.dot(A, A_inv))\n",
        "\n",
        "# 2. Prove AB = ̸= BA.\n",
        "AB = np.dot(A,B)\n",
        "BA = np.dot(B,A)\n",
        "\n",
        "print((AB == BA).all())\n",
        "\n",
        "# 3. Prove (AB)T = B(T).A(T)\n",
        "print((AB.T == np.dot(B.T, A.T)).all())\n",
        "\n",
        "# Solve the following system of Linear equation using Inverse Methods.\n",
        "\n",
        "# 2x − 3y + z = −1\n",
        "# x − y + 2z = −3\n",
        "# 3x + y − z = 9\n",
        "A = np.array([[2,-3,1],[1,-1,2],[3,1,-1]])\n",
        "b = np.array([-1,-3,9])\n",
        "print(np.linalg.solve(A, b))"
      ],
      "metadata": {
        "colab": {
          "base_uri": "https://localhost:8080/"
        },
        "id": "1d1TKGZpD9Ir",
        "outputId": "5ae8903b-6302-460c-a60b-2ebcede922af"
      },
      "execution_count": null,
      "outputs": [
        {
          "output_type": "stream",
          "name": "stdout",
          "text": [
            "[[1.00000000e+00 0.00000000e+00]\n",
            " [1.77635684e-15 1.00000000e+00]]\n",
            "False\n",
            "True\n",
            "[ 2.  1. -2.]\n"
          ]
        }
      ]
    },
    {
      "cell_type": "code",
      "source": [],
      "metadata": {
        "id": "rVflFuxdALKd"
      },
      "execution_count": null,
      "outputs": []
    }
  ]
}